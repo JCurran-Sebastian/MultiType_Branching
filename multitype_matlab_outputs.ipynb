{
 "cells": [
  {
   "cell_type": "code",
   "execution_count": 18,
   "metadata": {},
   "outputs": [],
   "source": [
    "import numpy as np\n",
    "import matplotlib.pyplot as plt\n",
    "from tqdm import tqdm\n",
    "import numpy.linalg as nla\n",
    "import seaborn as sns\n",
    "import scipy as sp\n",
    "import pandas as pd\n",
    "import sympy as sym\n",
    "from odeintw import odeintw\n",
    "import multitype_new as mt\n",
    "import importlib\n",
    "importlib.reload(mt)\n",
    "from scipy.integrate import odeint\n",
    "\n",
    "cmp = sns.color_palette('Set2')\n",
    "sns.set_palette(\"Set2\")"
   ]
  },
  {
   "cell_type": "code",
   "execution_count": 19,
   "metadata": {},
   "outputs": [],
   "source": [
    "# Parameters to change \n",
    "# Change idx to change value of R from Reff_vec - or can choose a different value of R altogether by changing the value of RV\n",
    "idx = 4\n",
    "Reff_vec = np.array((2., 2.5, 3., 3.5, 4.))\n",
    "RV = Reff_vec[idx]\n",
    "\n",
    "ntypes = 8\n",
    "# Number of types-at-birth\n",
    "nexposed = int(ntypes/2)\n",
    "\n",
    "\n",
    "# Disease Parameters\n",
    "\n",
    "gamma = 1/7 # Recovery Rate\n",
    "sigma = 1/3 # Progression rate from exposed to infectious\n",
    "\n",
    "beta_baseline = RV * gamma\n",
    "epsilon = 1e-3\n",
    "\n",
    "\n",
    "# Relative susceptibility for different types \n",
    "\n",
    "sus_ur = 1-0.4 # Susceptibility of unvaccinated, previously infected against new strain\n",
    "sus_vu = 1-0.6 # Susceptibility of vaccinated, not previously infected against new strain\n",
    "sus_vr = np.min((sus_ur, sus_vu)) # Susceptibility of vaccinated, previously infected against new strain\n",
    "\n",
    "\n",
    "Tmax = 1000 \n",
    "num = Tmax \n",
    "time = np.linspace(0, Tmax, num=num)\n",
    "dtime = time[1]-time[0]\n",
    "\n",
    "\n",
    "# Proportion of population in each type\n",
    "p_vac = 0.7\n",
    "p_no_vac = 1- p_vac \n",
    "\n",
    "p_rec = 0.2 # % recovered from previous strains\n",
    "p_sus = 1-p_rec # % never infected with any coronavirus\n",
    "\n",
    "# Reduced susceptibility for each type based on infection/vaccine immunity\n",
    "const_vec = np.array((1., sus_ur, sus_vu, sus_vr))\n",
    "prop_vec = np.array((p_sus*p_no_vac, p_rec*p_no_vac, p_sus*p_vac, p_rec*p_vac))\n",
    "scale = const_vec*prop_vec\n",
    "\n",
    "\n",
    "\n",
    "# Vector of immigrants at each type - currently only 1 immigrant of type 1 (unvaccinated, no prior infection) every 5 days\n",
    "\n",
    "im = 1\n",
    "im_vec = np.zeros(ntypes)\n",
    "y0 = np.zeros(ntypes)\n",
    "y0[0] = 1\n",
    "ics = np.zeros(ntypes)\n",
    "def eta(t):\n",
    "    return im_vec\n",
    "\n",
    "# No reduction in transmission conferred by vaccination\n",
    "trans_vec = np.ones(nexposed)\n",
    "\n",
    "def lifetime_vec(beta, gamma, sigma, ntypes = ntypes, const_vec = const_vec, prop_vec = prop_vec, trans_vec = trans_vec):\n",
    "    nexposed = int(ntypes / 2)\n",
    "    omega_vec = sigma * np.ones(ntypes) \n",
    "\n",
    "        \n",
    "    for nex in range(0, nexposed):\n",
    "        omega_vec[nex + nexposed] = np.sum(const_vec*prop_vec*beta)*trans_vec[nex] + gamma\n",
    "    return omega_vec\n",
    "\n",
    "omega_vec = lifetime_vec(beta_baseline, gamma, sigma)\n",
    "\n",
    "num_sims = 10000\n",
    "G_df = pd.read_csv('Gillespie_times_epsilon=0.001.csv').to_numpy()\n",
    "\n",
    "G_test = np.zeros((len(Reff_vec), num_sims))#\n",
    "for i in range(len(Reff_vec)):\n",
    "    G_test[i, :] = G_df[i, 1:]\n"
   ]
  },
  {
   "cell_type": "code",
   "execution_count": 20,
   "metadata": {},
   "outputs": [],
   "source": [
    "save = True\n",
    "plot = True\n",
    "# Plotting Parameters\n",
    "showplot = 100\n",
    "showplot_rho = 300"
   ]
  },
  {
   "cell_type": "code",
   "execution_count": 21,
   "metadata": {},
   "outputs": [],
   "source": [
    "\n",
    "\n",
    "def P(u, t): # Offspring distribution\n",
    "\n",
    "        ## Returns a vector of length ntypes with entry i containing  probabilities of generating particles \n",
    "        ## of each type from a particle of type i\n",
    "\n",
    "        pvec = np.zeros_like(u)\n",
    "        nexposed = int(ntypes/2)\n",
    "        omega = (np.sum(prop_vec * const_vec * beta_baseline) + gamma)\n",
    "        \n",
    "\n",
    "        sum_gen_funcs = np.sum((beta_baseline*prop_vec/omega)*const_vec*u[:nexposed])\n",
    "         \n",
    "        for nex in range(0, nexposed):\n",
    "\n",
    "            pvec[nex] = u[nex+nexposed] \n",
    "            pvec[nex+nexposed] =  u[nex+nexposed] * sum_gen_funcs  + (gamma/omega)\n",
    "        \n",
    "        return pvec  \n",
    "\n",
    "def Jacobian_mat(beta, gamma, sigma, ntypes = ntypes, const_vec = const_vec, prop_vec = prop_vec, trans_vec = trans_vec, omega_vec = omega_vec):\n",
    "    Omat = np.zeros((ntypes, ntypes))\n",
    "    omega_vec = sigma * np.ones(ntypes)       \n",
    "    nexposed = int(ntypes/2)\n",
    "    for nex in range(0, nexposed):\n",
    "        omega_vec[nex + nexposed] = np.sum(const_vec*prop_vec*beta)*trans_vec[nex] + gamma\n",
    "        Omat[nex, nex+nexposed] = omega_vec[nex]\n",
    "        Omat[nex+nexposed, :nexposed] = const_vec*prop_vec*beta *trans_vec[nex]\n",
    "        Omat[nex+nexposed, nex+nexposed] = np.sum(const_vec * beta * prop_vec)*trans_vec[nex]\n",
    "\n",
    "    Omat -= np.diag(omega_vec)\n",
    "    return Omat\n",
    "\n"
   ]
  },
  {
   "cell_type": "markdown",
   "metadata": {},
   "source": [
    "## Extinction Probability"
   ]
  },
  {
   "cell_type": "code",
   "execution_count": 22,
   "metadata": {},
   "outputs": [
    {
     "data": {
      "image/png": "[encoded data removed]",
      "text/plain": [
       "<Figure size 640x480 with 1 Axes>"
      ]
     },
     "metadata": {},
     "output_type": "display_data"
    }
   ],
   "source": [
    "\n",
    "rho = (odeint(mt.set_odes, ics, time, args = (P, omega_vec)).T )\n",
    "q = np.ones_like(time)\n",
    "for i in range(ntypes):\n",
    "    q *= rho[i, :] ** y0[i]\n",
    "if plot:\n",
    "    plt.grid(alpha = 0.5)\n",
    "    plt.plot(time[:showplot_rho], q[:showplot_rho], lw=2, label = str(np.round(RV, 2)))\n",
    "\n",
    "if save:\n",
    "    np.savetxt('./Outputs_for_matlab/p_extinction/p_extinction_R=' + str(RV) + '.csv', np.vstack((time, q)))\n",
    "\n"
   ]
  },
  {
   "cell_type": "markdown",
   "metadata": {},
   "source": [
    "## Mean"
   ]
  },
  {
   "cell_type": "code",
   "execution_count": 6,
   "metadata": {},
   "outputs": [
    {
     "data": {
      "text/plain": [
       "[<matplotlib.lines.Line2D at 0x17aa945b0>]"
      ]
     },
     "execution_count": 6,
     "metadata": {},
     "output_type": "execute_result"
    },
    {
     "data": {
      "image/png": "[encoded data removed]",
      "text/plain": [
       "<Figure size 640x480 with 1 Axes>"
      ]
     },
     "metadata": {},
     "output_type": "display_data"
    }
   ],
   "source": [
    "# Jacobian, or mean matrix\n",
    "Omat = Jacobian_mat(beta_baseline, gamma, sigma)\n",
    "# Mean of each type\n",
    "Mmat = odeint(mt.set_mean_odes, y0, time, args = (Omat,)).T\n",
    "# Total mean\n",
    "mean = np.sum(Mmat, axis=0)\n",
    "plt.plot(mean[:100])\n"
   ]
  },
  {
   "cell_type": "markdown",
   "metadata": {},
   "source": [
    "## Variance and T* calculation"
   ]
  },
  {
   "cell_type": "code",
   "execution_count": 23,
   "metadata": {},
   "outputs": [
    {
     "name": "stderr",
     "output_type": "stream",
     "text": [
      "100%|██████████| 1000/1000 [00:51<00:00, 19.55it/s]\n"
     ]
    },
    {
     "data": {
      "image/png": "[encoded data removed]",
      "text/plain": [
       "<Figure size 640x480 with 1 Axes>"
      ]
     },
     "metadata": {},
     "output_type": "display_data"
    }
   ],
   "source": [
    "variance = mt.variance(time, y0, omega_vec, Omat, [prop_vec, const_vec, beta_baseline, gamma], eta)\n",
    "\n",
    "#Coefficient of variation\n",
    "sig_over_mean = (np.sqrt(variance)/(mean))\n",
    "if plot:\n",
    "    plt.grid(alpha = 0.5)\n",
    "    plt.plot(sig_over_mean)\n",
    "if save:\n",
    "    np.savetxt('./Outputs_for_matlab/mean_variance/mean_variance_R=' + str(RV) + '.csv', np.vstack((time, mean, variance)))"
   ]
  },
  {
   "cell_type": "code",
   "execution_count": 8,
   "metadata": {},
   "outputs": [
    {
     "data": {
      "text/plain": [
       "(65.06506506506507, 1020.5080370527442)"
      ]
     },
     "execution_count": 8,
     "metadata": {},
     "output_type": "execute_result"
    }
   ],
   "source": [
    "Tstar_idx, Tstar = mt.Tstar(time, q, sig_over_mean, thresh1 = epsilon, thresh2 = epsilon)\n",
    "Zstar_min= mean[Tstar_idx]\n",
    "Tstar, Zstar_min"
   ]
  },
  {
   "cell_type": "code",
   "execution_count": 24,
   "metadata": {},
   "outputs": [],
   "source": [
    "eigvls, orth = nla.eig(Omat)\n",
    "ordering = (np.argsort(eigvls)).tolist()\n",
    "eigvls, orth = mt.reorder_evecs(eigvls, orth, ordering)\n",
    "diagmat = np.diag(eigvls)\n",
    "growth_rate = np.max(eigvls)\n",
    "assert(growth_rate > 0), 'Growth Rate must be positive (i.e. Branching Process must be supercritical)'\n",
    "\n",
    "orth_inv = mt.invert_mat_safe(orth.copy())\n",
    "orth_c = orth.copy().T\n",
    "orthc_inv = mt.invert_mat_safe(orth_c.copy())\n",
    "\n",
    "\n",
    "### Build variance matrix via Kronecker Products\n",
    "H = np.kron(orth, np.kron((orthc_inv), orthc_inv))\n",
    "Hinv = np.kron(orth_inv, np.kron(orth_c, orth_c)) \n",
    "Amat = np.kron(orthc_inv, orthc_inv)\n",
    "Amat_inv = np.kron(orth_c, orth_c)\n",
    "\n",
    "vec_w = np.zeros(ntypes**3)\n",
    "\n",
    "# Build Hessian matrix\n",
    "Hessian_mat = np.zeros((ntypes, ntypes, ntypes))\n",
    "for level in range(0, nexposed):\n",
    "    for i in range(0, nexposed):\n",
    "\n",
    "        Hessian_mat[level + nexposed, level+nexposed, i] = (beta_baseline * const_vec[i]*prop_vec[i])/(omega_vec[level+nexposed])\n",
    "        Hessian_mat[level + nexposed, i, level+nexposed] = (beta_baseline * const_vec[i]*prop_vec[i])/(omega_vec[level+nexposed])\n",
    "\n",
    "P_mat = np.zeros((ntypes, ntypes))\n",
    "\n",
    "\n",
    "for nex in range(0, nexposed):\n",
    "    P_mat[nex, nex+nexposed] = omega_vec[nex]/omega_vec[nex]\n",
    "    P_mat[nex+nexposed, :nexposed] = const_vec*prop_vec*beta_baseline/omega_vec[nex+nexposed]\n",
    "    P_mat[nex+nexposed, nex+nexposed] = np.sum(const_vec * beta_baseline * prop_vec)/omega_vec[nex+nexposed]\n",
    "\n",
    "P_mat = P_mat.T\n",
    "\n",
    "Gmat = np.zeros((ntypes, ntypes, ntypes))\n",
    "C = np.zeros(ntypes**3)\n",
    "blorg = np.zeros((ntypes, ntypes))\n",
    "for l in range(0, ntypes):\n",
    "    f_vec = (P_mat - np.identity(ntypes))[l, :]\n",
    "    unitvec = np.zeros(ntypes)\n",
    "    unitvec[l] = 1\n",
    "\n",
    "    Gmat[l, :, :] = Hessian_mat[l, :, :] - np.diag(P_mat[:, l]) #- np.outer(P_mat[:, l], P_mat[:, l])\n",
    "    Gmat[l, :, :] += np.diag(unitvec)        \n",
    "    Gmat[l, :, :] *= omega_vec[l]\n",
    "        "
   ]
  },
  {
   "cell_type": "markdown",
   "metadata": {},
   "source": [
    "## Feller Diffusion"
   ]
  },
  {
   "cell_type": "markdown",
   "metadata": {},
   "source": [
    "- Returns: A vector of eigenvalues (first of these is the growth rate) and a matrix of eigenvectors (the first column is the dominant eigenvector) \n",
    "- Also, the inverse of the matrix of eigenvectors, P^-1 - we need the first column of this as a scaling to recover prevalence X from eigenvector V\n"
   ]
  },
  {
   "cell_type": "code",
   "execution_count": 25,
   "metadata": {},
   "outputs": [
    {
     "name": "stdout",
     "output_type": "stream",
     "text": [
      "0.10098448216143324\n",
      "0.23853411865563937\n"
     ]
    }
   ],
   "source": [
    "eigvls, orth = nla.eig(Omat)\n",
    "growth_rate = np.max(eigvls)\n",
    "print(growth_rate)\n",
    "\n",
    "\n",
    "change_from_ebasis = -orth # P\n",
    "evec = change_from_ebasis[:, 0]\n",
    "change_to_ebasis = mt.invert_mat_safe(change_from_ebasis)\n",
    "xi = change_to_ebasis[:, 0]\n",
    "variance_diffusion_mat = np.zeros((ntypes, ntypes))\n",
    "for l in range(ntypes):\n",
    "    variance_diffusion_mat += change_from_ebasis@(change_from_ebasis)@(Gmat[l, :, :] * xi[l])\n",
    "    \n",
    "\n",
    "variance_all = nla.norm(variance_diffusion_mat[0, :])\n",
    "print(variance_all)\n",
    "evec_scaling = 1/np.sum(xi)\n",
    "\n",
    "xvec = np.linspace(np.finfo(float).eps, 20000, int(1e5))\n",
    "xvec_idx = np.min(np.where(xvec>=(evec_scaling*Zstar_min))[0])\n",
    "integral_limit = xvec[xvec_idx]\n",
    "\n",
    "## Save growth rate, variance and scaling factor\n",
    "np.savetxt('./Outputs_for_matlab/FPT_params_R=' + str(RV) + '.csv', np.array((growth_rate, variance_all, evec_scaling, integral_limit)))"
   ]
  },
  {
   "cell_type": "markdown",
   "metadata": {},
   "source": [
    "## Run Feller Diffusion\n"
   ]
  },
  {
   "cell_type": "code",
   "execution_count": 26,
   "metadata": {},
   "outputs": [
    {
     "name": "stdout",
     "output_type": "stream",
     "text": [
      "478.4047840478405\n"
     ]
    },
    {
     "name": "stderr",
     "output_type": "stream",
     "text": [
      "  0%|          | 0/1000 [00:00<?, ?it/s]/var/folders/dp/07jgbgpd0wqdpv18kyhd50vr0000gn/T/ipykernel_98910/120187069.py:11: RuntimeWarning: divide by zero encountered in scalar divide\n",
      "  x_scale = 2*growth_rate*x/(((variance_all/2))*(np.exp(growth_rate*t) - 1))\n",
      "/var/folders/dp/07jgbgpd0wqdpv18kyhd50vr0000gn/T/ipykernel_98910/120187069.py:12: RuntimeWarning: divide by zero encountered in scalar divide\n",
      "  lamb = 2*growth_rate*np.exp(growth_rate*t)/((variance_all/2)*(np.exp(growth_rate*t) - 1))\n",
      "/var/folders/dp/07jgbgpd0wqdpv18kyhd50vr0000gn/T/ipykernel_98910/120187069.py:13: RuntimeWarning: divide by zero encountered in scalar divide\n",
      "  chi_sq_pdf = growth_rate/((variance_all/2)*(np.exp(growth_rate*t) - 1)) * np.sqrt(np.exp(growth_rate*t)/x) * np.exp(- 1/2 * (lamb + x_scale)) * sp.special.iv(1, np.sqrt(x_scale*lamb)) / ((1-np.exp(-lamb/2)))\n",
      "/var/folders/dp/07jgbgpd0wqdpv18kyhd50vr0000gn/T/ipykernel_98910/120187069.py:13: RuntimeWarning: invalid value encountered in scalar multiply\n",
      "  chi_sq_pdf = growth_rate/((variance_all/2)*(np.exp(growth_rate*t) - 1)) * np.sqrt(np.exp(growth_rate*t)/x) * np.exp(- 1/2 * (lamb + x_scale)) * sp.special.iv(1, np.sqrt(x_scale*lamb)) / ((1-np.exp(-lamb/2)))\n",
      "100%|██████████| 1000/1000 [00:02<00:00, 448.92it/s]\n"
     ]
    }
   ],
   "source": [
    "t0 = 0\n",
    "dt = np.diff(time)[0]\n",
    "\n",
    "# stop_cases = [50, int(Istars_min[-1])]\n",
    "stop_cases = [50, int(Zstar_min)]\n",
    "cols = [str(st) for st in stop_cases]\n",
    "\n",
    "\n",
    "def chi_sq(u, x, t):\n",
    "    x_scale = 2*growth_rate*x/(((variance_all/2))*(np.exp(growth_rate*t) - 1))\n",
    "    lamb = 2*growth_rate*np.exp(growth_rate*t)/((variance_all/2)*(np.exp(growth_rate*t) - 1))\n",
    "    chi_sq_pdf = growth_rate/((variance_all/2)*(np.exp(growth_rate*t) - 1)) * np.sqrt(np.exp(growth_rate*t)/x) * np.exp(- 1/2 * (lamb + x_scale)) * sp.special.iv(1, np.sqrt(x_scale*lamb)) / ((1-np.exp(-lamb/2)))\n",
    "    return chi_sq_pdf\n",
    "\n",
    "\n",
    "\n",
    "# xvec_idx = np.min(np.where(xvec>=blorg)[0])\n",
    "print(xvec[xvec_idx])\n",
    "cdf_chisq = np.zeros(len(time))\n",
    "\n",
    "for T_idx, T_val in enumerate(tqdm(time)):\n",
    "    chi_sq_integral = sp.integrate.odeint(chi_sq, 0, xvec, args = (T_val,)).flatten() \n",
    "    prob =  (1-(chi_sq_integral[xvec_idx]))\n",
    "    cdf_chisq[T_idx] = prob\n",
    "    \n",
    "pdf_chisq = np.gradient(cdf_chisq, dt)\n",
    "\n"
   ]
  },
  {
   "cell_type": "code",
   "execution_count": 27,
   "metadata": {},
   "outputs": [
    {
     "data": {
      "text/plain": [
       "(0.0, 200.0)"
      ]
     },
     "execution_count": 27,
     "metadata": {},
     "output_type": "execute_result"
    },
    {
     "data": {
      "image/png": "[encoded data removed]",
      "text/plain": [
       "<Figure size 640x480 with 1 Axes>"
      ]
     },
     "metadata": {},
     "output_type": "display_data"
    }
   ],
   "source": [
    "sns.histplot(G_test[idx, :], stat = 'density', kde = True, bins = 40, label = 'Gillespie', \n",
    "             alpha =0.5, color = cmp[2])\n",
    "plt.plot(time, pdf_chisq, label = \"Feller_exact\", color = cmp[1])\n",
    "plt.xlim([0, 200])"
   ]
  },
  {
   "cell_type": "code",
   "execution_count": null,
   "metadata": {},
   "outputs": [],
   "source": []
  }
 ],
 "metadata": {
  "kernelspec": {
   "display_name": "base",
   "language": "python",
   "name": "python3"
  },
  "language_info": {
   "codemirror_mode": {
    "name": "ipython",
    "version": 3
   },
   "file_extension": ".py",
   "mimetype": "text/x-python",
   "name": "python",
   "nbconvert_exporter": "python",
   "pygments_lexer": "ipython3",
   "version": "3.10.9"
  }
 },
 "nbformat": 4,
 "nbformat_minor": 2
}
